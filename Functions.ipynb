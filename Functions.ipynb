{
  "nbformat": 4,
  "nbformat_minor": 0,
  "metadata": {
    "colab": {
      "provenance": []
    },
    "kernelspec": {
      "name": "python3",
      "display_name": "Python 3"
    },
    "language_info": {
      "name": "python"
    }
  },
  "cells": [
    {
      "cell_type": "markdown",
      "source": [
        "# Function\n"
      ],
      "metadata": {
        "id": "KWF2kPjkpkFi"
      }
    },
    {
      "cell_type": "markdown",
      "source": [
        "1) what is method.\n",
        "  - Method is a collection of functions."
      ],
      "metadata": {
        "id": "kkjix_M4txEd"
      }
    },
    {
      "cell_type": "code",
      "source": [
        "# 2) Print hello world\n",
        "print(\"Hello World\")"
      ],
      "metadata": {
        "colab": {
          "base_uri": "https://localhost:8080/"
        },
        "id": "0_WuTMQwt_4o",
        "outputId": "e3a66923-8020-4942-c4d0-590156c289e6"
      },
      "execution_count": 1,
      "outputs": [
        {
          "output_type": "stream",
          "name": "stdout",
          "text": [
            "Hello World\n"
          ]
        }
      ]
    }
  ]
}